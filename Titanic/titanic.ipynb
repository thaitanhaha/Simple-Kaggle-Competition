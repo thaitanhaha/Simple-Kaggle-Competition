{
 "cells": [
  {
   "cell_type": "code",
   "execution_count": 1,
   "id": "daea25fa",
   "metadata": {
    "_cell_guid": "b1076dfc-b9ad-4769-8c92-a6c4dae69d19",
    "_uuid": "8f2839f25d086af736a60e9eeb907d3b93b6e0e5",
    "execution": {
     "iopub.execute_input": "2024-10-30T22:03:03.190647Z",
     "iopub.status.busy": "2024-10-30T22:03:03.190107Z",
     "iopub.status.idle": "2024-10-30T22:03:04.110331Z",
     "shell.execute_reply": "2024-10-30T22:03:04.109179Z"
    },
    "papermill": {
     "duration": 0.929991,
     "end_time": "2024-10-30T22:03:04.112935",
     "exception": false,
     "start_time": "2024-10-30T22:03:03.182944",
     "status": "completed"
    },
    "tags": []
   },
   "outputs": [
    {
     "name": "stdout",
     "output_type": "stream",
     "text": [
      "/kaggle/input/titanic/train.csv\n",
      "/kaggle/input/titanic/test.csv\n",
      "/kaggle/input/titanic/gender_submission.csv\n"
     ]
    }
   ],
   "source": [
    "# This Python 3 environment comes with many helpful analytics libraries installed\n",
    "# It is defined by the kaggle/python Docker image: https://github.com/kaggle/docker-python\n",
    "# For example, here's several helpful packages to load\n",
    "\n",
    "import numpy as np # linear algebra\n",
    "import pandas as pd # data processing, CSV file I/O (e.g. pd.read_csv)\n",
    "\n",
    "# Input data files are available in the read-only \"../input/\" directory\n",
    "# For example, running this (by clicking run or pressing Shift+Enter) will list all files under the input directory\n",
    "\n",
    "import os\n",
    "for dirname, _, filenames in os.walk('/kaggle/input'):\n",
    "    for filename in filenames:\n",
    "        print(os.path.join(dirname, filename))\n",
    "\n",
    "# You can write up to 20GB to the current directory (/kaggle/working/) that gets preserved as output when you create a version using \"Save & Run All\" \n",
    "# You can also write temporary files to /kaggle/temp/, but they won't be saved outside of the current session"
   ]
  },
  {
   "cell_type": "code",
   "execution_count": 2,
   "id": "4e8b45f1",
   "metadata": {
    "execution": {
     "iopub.execute_input": "2024-10-30T22:03:04.125044Z",
     "iopub.status.busy": "2024-10-30T22:03:04.124066Z",
     "iopub.status.idle": "2024-10-30T22:03:06.256768Z",
     "shell.execute_reply": "2024-10-30T22:03:06.255699Z"
    },
    "papermill": {
     "duration": 2.141461,
     "end_time": "2024-10-30T22:03:06.259477",
     "exception": false,
     "start_time": "2024-10-30T22:03:04.118016",
     "status": "completed"
    },
    "tags": []
   },
   "outputs": [],
   "source": [
    "import seaborn as sns\n",
    "import matplotlib.pyplot as plt\n",
    "import xgboost as xgb"
   ]
  },
  {
   "cell_type": "code",
   "execution_count": 3,
   "id": "453309f2",
   "metadata": {
    "execution": {
     "iopub.execute_input": "2024-10-30T22:03:06.270999Z",
     "iopub.status.busy": "2024-10-30T22:03:06.270407Z",
     "iopub.status.idle": "2024-10-30T22:03:06.312768Z",
     "shell.execute_reply": "2024-10-30T22:03:06.311529Z"
    },
    "papermill": {
     "duration": 0.050947,
     "end_time": "2024-10-30T22:03:06.315278",
     "exception": false,
     "start_time": "2024-10-30T22:03:06.264331",
     "status": "completed"
    },
    "tags": []
   },
   "outputs": [
    {
     "data": {
      "text/html": [
       "<div>\n",
       "<style scoped>\n",
       "    .dataframe tbody tr th:only-of-type {\n",
       "        vertical-align: middle;\n",
       "    }\n",
       "\n",
       "    .dataframe tbody tr th {\n",
       "        vertical-align: top;\n",
       "    }\n",
       "\n",
       "    .dataframe thead th {\n",
       "        text-align: right;\n",
       "    }\n",
       "</style>\n",
       "<table border=\"1\" class=\"dataframe\">\n",
       "  <thead>\n",
       "    <tr style=\"text-align: right;\">\n",
       "      <th></th>\n",
       "      <th>PassengerId</th>\n",
       "      <th>Survived</th>\n",
       "      <th>Pclass</th>\n",
       "      <th>Name</th>\n",
       "      <th>Sex</th>\n",
       "      <th>Age</th>\n",
       "      <th>SibSp</th>\n",
       "      <th>Parch</th>\n",
       "      <th>Ticket</th>\n",
       "      <th>Fare</th>\n",
       "      <th>Cabin</th>\n",
       "      <th>Embarked</th>\n",
       "    </tr>\n",
       "  </thead>\n",
       "  <tbody>\n",
       "    <tr>\n",
       "      <th>0</th>\n",
       "      <td>1</td>\n",
       "      <td>0</td>\n",
       "      <td>3</td>\n",
       "      <td>Braund, Mr. Owen Harris</td>\n",
       "      <td>male</td>\n",
       "      <td>22.0</td>\n",
       "      <td>1</td>\n",
       "      <td>0</td>\n",
       "      <td>A/5 21171</td>\n",
       "      <td>7.2500</td>\n",
       "      <td>NaN</td>\n",
       "      <td>S</td>\n",
       "    </tr>\n",
       "    <tr>\n",
       "      <th>1</th>\n",
       "      <td>2</td>\n",
       "      <td>1</td>\n",
       "      <td>1</td>\n",
       "      <td>Cumings, Mrs. John Bradley (Florence Briggs Th...</td>\n",
       "      <td>female</td>\n",
       "      <td>38.0</td>\n",
       "      <td>1</td>\n",
       "      <td>0</td>\n",
       "      <td>PC 17599</td>\n",
       "      <td>71.2833</td>\n",
       "      <td>C85</td>\n",
       "      <td>C</td>\n",
       "    </tr>\n",
       "    <tr>\n",
       "      <th>2</th>\n",
       "      <td>3</td>\n",
       "      <td>1</td>\n",
       "      <td>3</td>\n",
       "      <td>Heikkinen, Miss. Laina</td>\n",
       "      <td>female</td>\n",
       "      <td>26.0</td>\n",
       "      <td>0</td>\n",
       "      <td>0</td>\n",
       "      <td>STON/O2. 3101282</td>\n",
       "      <td>7.9250</td>\n",
       "      <td>NaN</td>\n",
       "      <td>S</td>\n",
       "    </tr>\n",
       "    <tr>\n",
       "      <th>3</th>\n",
       "      <td>4</td>\n",
       "      <td>1</td>\n",
       "      <td>1</td>\n",
       "      <td>Futrelle, Mrs. Jacques Heath (Lily May Peel)</td>\n",
       "      <td>female</td>\n",
       "      <td>35.0</td>\n",
       "      <td>1</td>\n",
       "      <td>0</td>\n",
       "      <td>113803</td>\n",
       "      <td>53.1000</td>\n",
       "      <td>C123</td>\n",
       "      <td>S</td>\n",
       "    </tr>\n",
       "    <tr>\n",
       "      <th>4</th>\n",
       "      <td>5</td>\n",
       "      <td>0</td>\n",
       "      <td>3</td>\n",
       "      <td>Allen, Mr. William Henry</td>\n",
       "      <td>male</td>\n",
       "      <td>35.0</td>\n",
       "      <td>0</td>\n",
       "      <td>0</td>\n",
       "      <td>373450</td>\n",
       "      <td>8.0500</td>\n",
       "      <td>NaN</td>\n",
       "      <td>S</td>\n",
       "    </tr>\n",
       "  </tbody>\n",
       "</table>\n",
       "</div>"
      ],
      "text/plain": [
       "   PassengerId  Survived  Pclass  \\\n",
       "0            1         0       3   \n",
       "1            2         1       1   \n",
       "2            3         1       3   \n",
       "3            4         1       1   \n",
       "4            5         0       3   \n",
       "\n",
       "                                                Name     Sex   Age  SibSp  \\\n",
       "0                            Braund, Mr. Owen Harris    male  22.0      1   \n",
       "1  Cumings, Mrs. John Bradley (Florence Briggs Th...  female  38.0      1   \n",
       "2                             Heikkinen, Miss. Laina  female  26.0      0   \n",
       "3       Futrelle, Mrs. Jacques Heath (Lily May Peel)  female  35.0      1   \n",
       "4                           Allen, Mr. William Henry    male  35.0      0   \n",
       "\n",
       "   Parch            Ticket     Fare Cabin Embarked  \n",
       "0      0         A/5 21171   7.2500   NaN        S  \n",
       "1      0          PC 17599  71.2833   C85        C  \n",
       "2      0  STON/O2. 3101282   7.9250   NaN        S  \n",
       "3      0            113803  53.1000  C123        S  \n",
       "4      0            373450   8.0500   NaN        S  "
      ]
     },
     "execution_count": 3,
     "metadata": {},
     "output_type": "execute_result"
    }
   ],
   "source": [
    "train_data = pd.read_csv(\"/kaggle/input/titanic/train.csv\")\n",
    "train_data.head()"
   ]
  },
  {
   "cell_type": "code",
   "execution_count": 4,
   "id": "a576fee5",
   "metadata": {
    "execution": {
     "iopub.execute_input": "2024-10-30T22:03:06.327583Z",
     "iopub.status.busy": "2024-10-30T22:03:06.326726Z",
     "iopub.status.idle": "2024-10-30T22:03:06.350918Z",
     "shell.execute_reply": "2024-10-30T22:03:06.349570Z"
    },
    "papermill": {
     "duration": 0.033262,
     "end_time": "2024-10-30T22:03:06.353649",
     "exception": false,
     "start_time": "2024-10-30T22:03:06.320387",
     "status": "completed"
    },
    "tags": []
   },
   "outputs": [
    {
     "data": {
      "text/html": [
       "<div>\n",
       "<style scoped>\n",
       "    .dataframe tbody tr th:only-of-type {\n",
       "        vertical-align: middle;\n",
       "    }\n",
       "\n",
       "    .dataframe tbody tr th {\n",
       "        vertical-align: top;\n",
       "    }\n",
       "\n",
       "    .dataframe thead th {\n",
       "        text-align: right;\n",
       "    }\n",
       "</style>\n",
       "<table border=\"1\" class=\"dataframe\">\n",
       "  <thead>\n",
       "    <tr style=\"text-align: right;\">\n",
       "      <th></th>\n",
       "      <th>PassengerId</th>\n",
       "      <th>Pclass</th>\n",
       "      <th>Name</th>\n",
       "      <th>Sex</th>\n",
       "      <th>Age</th>\n",
       "      <th>SibSp</th>\n",
       "      <th>Parch</th>\n",
       "      <th>Ticket</th>\n",
       "      <th>Fare</th>\n",
       "      <th>Cabin</th>\n",
       "      <th>Embarked</th>\n",
       "    </tr>\n",
       "  </thead>\n",
       "  <tbody>\n",
       "    <tr>\n",
       "      <th>0</th>\n",
       "      <td>892</td>\n",
       "      <td>3</td>\n",
       "      <td>Kelly, Mr. James</td>\n",
       "      <td>male</td>\n",
       "      <td>34.5</td>\n",
       "      <td>0</td>\n",
       "      <td>0</td>\n",
       "      <td>330911</td>\n",
       "      <td>7.8292</td>\n",
       "      <td>NaN</td>\n",
       "      <td>Q</td>\n",
       "    </tr>\n",
       "    <tr>\n",
       "      <th>1</th>\n",
       "      <td>893</td>\n",
       "      <td>3</td>\n",
       "      <td>Wilkes, Mrs. James (Ellen Needs)</td>\n",
       "      <td>female</td>\n",
       "      <td>47.0</td>\n",
       "      <td>1</td>\n",
       "      <td>0</td>\n",
       "      <td>363272</td>\n",
       "      <td>7.0000</td>\n",
       "      <td>NaN</td>\n",
       "      <td>S</td>\n",
       "    </tr>\n",
       "    <tr>\n",
       "      <th>2</th>\n",
       "      <td>894</td>\n",
       "      <td>2</td>\n",
       "      <td>Myles, Mr. Thomas Francis</td>\n",
       "      <td>male</td>\n",
       "      <td>62.0</td>\n",
       "      <td>0</td>\n",
       "      <td>0</td>\n",
       "      <td>240276</td>\n",
       "      <td>9.6875</td>\n",
       "      <td>NaN</td>\n",
       "      <td>Q</td>\n",
       "    </tr>\n",
       "    <tr>\n",
       "      <th>3</th>\n",
       "      <td>895</td>\n",
       "      <td>3</td>\n",
       "      <td>Wirz, Mr. Albert</td>\n",
       "      <td>male</td>\n",
       "      <td>27.0</td>\n",
       "      <td>0</td>\n",
       "      <td>0</td>\n",
       "      <td>315154</td>\n",
       "      <td>8.6625</td>\n",
       "      <td>NaN</td>\n",
       "      <td>S</td>\n",
       "    </tr>\n",
       "    <tr>\n",
       "      <th>4</th>\n",
       "      <td>896</td>\n",
       "      <td>3</td>\n",
       "      <td>Hirvonen, Mrs. Alexander (Helga E Lindqvist)</td>\n",
       "      <td>female</td>\n",
       "      <td>22.0</td>\n",
       "      <td>1</td>\n",
       "      <td>1</td>\n",
       "      <td>3101298</td>\n",
       "      <td>12.2875</td>\n",
       "      <td>NaN</td>\n",
       "      <td>S</td>\n",
       "    </tr>\n",
       "  </tbody>\n",
       "</table>\n",
       "</div>"
      ],
      "text/plain": [
       "   PassengerId  Pclass                                          Name     Sex  \\\n",
       "0          892       3                              Kelly, Mr. James    male   \n",
       "1          893       3              Wilkes, Mrs. James (Ellen Needs)  female   \n",
       "2          894       2                     Myles, Mr. Thomas Francis    male   \n",
       "3          895       3                              Wirz, Mr. Albert    male   \n",
       "4          896       3  Hirvonen, Mrs. Alexander (Helga E Lindqvist)  female   \n",
       "\n",
       "    Age  SibSp  Parch   Ticket     Fare Cabin Embarked  \n",
       "0  34.5      0      0   330911   7.8292   NaN        Q  \n",
       "1  47.0      1      0   363272   7.0000   NaN        S  \n",
       "2  62.0      0      0   240276   9.6875   NaN        Q  \n",
       "3  27.0      0      0   315154   8.6625   NaN        S  \n",
       "4  22.0      1      1  3101298  12.2875   NaN        S  "
      ]
     },
     "execution_count": 4,
     "metadata": {},
     "output_type": "execute_result"
    }
   ],
   "source": [
    "test_data = pd.read_csv(\"/kaggle/input/titanic/test.csv\")\n",
    "test_data.head()"
   ]
  },
  {
   "cell_type": "code",
   "execution_count": 5,
   "id": "09332284",
   "metadata": {
    "execution": {
     "iopub.execute_input": "2024-10-30T22:03:06.366151Z",
     "iopub.status.busy": "2024-10-30T22:03:06.365722Z",
     "iopub.status.idle": "2024-10-30T22:03:06.371184Z",
     "shell.execute_reply": "2024-10-30T22:03:06.369837Z"
    },
    "papermill": {
     "duration": 0.014437,
     "end_time": "2024-10-30T22:03:06.373596",
     "exception": false,
     "start_time": "2024-10-30T22:03:06.359159",
     "status": "completed"
    },
    "tags": []
   },
   "outputs": [],
   "source": [
    "PassengerId = test_data['PassengerId']"
   ]
  },
  {
   "cell_type": "code",
   "execution_count": 6,
   "id": "ee01903c",
   "metadata": {
    "execution": {
     "iopub.execute_input": "2024-10-30T22:03:06.386096Z",
     "iopub.status.busy": "2024-10-30T22:03:06.385634Z",
     "iopub.status.idle": "2024-10-30T22:03:06.392776Z",
     "shell.execute_reply": "2024-10-30T22:03:06.391639Z"
    },
    "papermill": {
     "duration": 0.016152,
     "end_time": "2024-10-30T22:03:06.395077",
     "exception": false,
     "start_time": "2024-10-30T22:03:06.378925",
     "status": "completed"
    },
    "tags": []
   },
   "outputs": [
    {
     "name": "stdout",
     "output_type": "stream",
     "text": [
      "Categorical columns: ['Name', 'Sex', 'Ticket', 'Cabin', 'Embarked']\n"
     ]
    }
   ],
   "source": [
    "categorical_columns = train_data.select_dtypes(include=['object', 'category']).columns.tolist()\n",
    "print(\"Categorical columns:\", categorical_columns)"
   ]
  },
  {
   "cell_type": "code",
   "execution_count": 7,
   "id": "45c42108",
   "metadata": {
    "execution": {
     "iopub.execute_input": "2024-10-30T22:03:06.408747Z",
     "iopub.status.busy": "2024-10-30T22:03:06.407729Z",
     "iopub.status.idle": "2024-10-30T22:03:06.416929Z",
     "shell.execute_reply": "2024-10-30T22:03:06.415791Z"
    },
    "papermill": {
     "duration": 0.018501,
     "end_time": "2024-10-30T22:03:06.419260",
     "exception": false,
     "start_time": "2024-10-30T22:03:06.400759",
     "status": "completed"
    },
    "tags": []
   },
   "outputs": [
    {
     "name": "stdout",
     "output_type": "stream",
     "text": [
      "Index(['Age', 'Cabin', 'Embarked'], dtype='object')\n"
     ]
    }
   ],
   "source": [
    "na_columns = train_data.columns[train_data.isna().any()]\n",
    "print(na_columns)"
   ]
  },
  {
   "cell_type": "code",
   "execution_count": 8,
   "id": "3bffa011",
   "metadata": {
    "execution": {
     "iopub.execute_input": "2024-10-30T22:03:06.433885Z",
     "iopub.status.busy": "2024-10-30T22:03:06.432550Z",
     "iopub.status.idle": "2024-10-30T22:03:06.465183Z",
     "shell.execute_reply": "2024-10-30T22:03:06.463754Z"
    },
    "papermill": {
     "duration": 0.043232,
     "end_time": "2024-10-30T22:03:06.467943",
     "exception": false,
     "start_time": "2024-10-30T22:03:06.424711",
     "status": "completed"
    },
    "tags": []
   },
   "outputs": [],
   "source": [
    "data = [train_data, test_data]\n",
    "\n",
    "for i in data:\n",
    "#     i['Ticket_type'] = i['Ticket'].astype('category').cat.codes\n",
    "#     i['Has_Cabin'] = i['Cabin'].apply(lambda x: 0 if type(x) == float else 1)\n",
    "#     i['FamilySize'] = i['SibSp'] + i['Parch'] + 1\n",
    "#     i['IsAlone'] = 0\n",
    "#     i.loc[i['FamilySize'] == 1, 'IsAlone'] = 1\n",
    "#     i['Embarked'] = i['Embarked'].fillna('S')\n",
    "#     i['Embarked'] = i['Embarked'].map( {'S': 0, 'C': 1, 'Q': 2} ).astype(int)\n",
    "    i['Fare'] = i['Fare'].fillna(train_data['Fare'].median())\n",
    "    i.loc[ i['Fare'] <= 7.91, 'Fare'] = 0\n",
    "    i.loc[(i['Fare'] > 7.91) & (i['Fare'] <= 14.454), 'Fare'] = 1\n",
    "    i.loc[(i['Fare'] > 14.454) & (i['Fare'] <= 31), 'Fare'] = 2\n",
    "    i.loc[ i['Fare'] > 31, 'Fare'] = 3\n",
    "    i['Fare'] = i['Fare'].astype(int)\n",
    "    i['Age'] = i['Age'].fillna(train_data['Age'].median())\n",
    "    i.loc[ i['Age'] <= 16, 'Age'] = 0\n",
    "    i.loc[(i['Age'] > 16) & (i['Age'] <= 32), 'Age'] = 1\n",
    "    i.loc[(i['Age'] > 32) & (i['Age'] <= 48), 'Age'] = 2\n",
    "    i.loc[(i['Age'] > 48) & (i['Age'] <= 64), 'Age'] = 3\n",
    "    i.loc[ i['Age'] > 64, 'Age'] = 4;\n",
    "    i['Sex'] = i['Sex'].map( {'female': 0, 'male': 1} ).astype(int)"
   ]
  },
  {
   "cell_type": "code",
   "execution_count": 9,
   "id": "62f24eb6",
   "metadata": {
    "execution": {
     "iopub.execute_input": "2024-10-30T22:03:06.481471Z",
     "iopub.status.busy": "2024-10-30T22:03:06.480388Z",
     "iopub.status.idle": "2024-10-30T22:03:06.490510Z",
     "shell.execute_reply": "2024-10-30T22:03:06.489260Z"
    },
    "papermill": {
     "duration": 0.019681,
     "end_time": "2024-10-30T22:03:06.493202",
     "exception": false,
     "start_time": "2024-10-30T22:03:06.473521",
     "status": "completed"
    },
    "tags": []
   },
   "outputs": [],
   "source": [
    "train_data = train_data.drop(['PassengerId', 'Name', 'Ticket', 'Cabin', 'SibSp', 'Parch', 'Embarked'], axis = 1)\n",
    "test_data = test_data.drop(['PassengerId', 'Name', 'Ticket', 'Cabin', 'SibSp', 'Parch', 'Embarked'], axis = 1)"
   ]
  },
  {
   "cell_type": "code",
   "execution_count": 10,
   "id": "b7d1c1bf",
   "metadata": {
    "execution": {
     "iopub.execute_input": "2024-10-30T22:03:06.506458Z",
     "iopub.status.busy": "2024-10-30T22:03:06.505627Z",
     "iopub.status.idle": "2024-10-30T22:03:06.522929Z",
     "shell.execute_reply": "2024-10-30T22:03:06.521668Z"
    },
    "papermill": {
     "duration": 0.026746,
     "end_time": "2024-10-30T22:03:06.525520",
     "exception": false,
     "start_time": "2024-10-30T22:03:06.498774",
     "status": "completed"
    },
    "tags": []
   },
   "outputs": [
    {
     "data": {
      "text/html": [
       "<div>\n",
       "<style scoped>\n",
       "    .dataframe tbody tr th:only-of-type {\n",
       "        vertical-align: middle;\n",
       "    }\n",
       "\n",
       "    .dataframe tbody tr th {\n",
       "        vertical-align: top;\n",
       "    }\n",
       "\n",
       "    .dataframe thead th {\n",
       "        text-align: right;\n",
       "    }\n",
       "</style>\n",
       "<table border=\"1\" class=\"dataframe\">\n",
       "  <thead>\n",
       "    <tr style=\"text-align: right;\">\n",
       "      <th></th>\n",
       "      <th>Survived</th>\n",
       "      <th>Pclass</th>\n",
       "      <th>Sex</th>\n",
       "      <th>Age</th>\n",
       "      <th>Fare</th>\n",
       "    </tr>\n",
       "  </thead>\n",
       "  <tbody>\n",
       "    <tr>\n",
       "      <th>0</th>\n",
       "      <td>0</td>\n",
       "      <td>3</td>\n",
       "      <td>1</td>\n",
       "      <td>1.0</td>\n",
       "      <td>0</td>\n",
       "    </tr>\n",
       "    <tr>\n",
       "      <th>1</th>\n",
       "      <td>1</td>\n",
       "      <td>1</td>\n",
       "      <td>0</td>\n",
       "      <td>2.0</td>\n",
       "      <td>3</td>\n",
       "    </tr>\n",
       "    <tr>\n",
       "      <th>2</th>\n",
       "      <td>1</td>\n",
       "      <td>3</td>\n",
       "      <td>0</td>\n",
       "      <td>1.0</td>\n",
       "      <td>1</td>\n",
       "    </tr>\n",
       "    <tr>\n",
       "      <th>3</th>\n",
       "      <td>1</td>\n",
       "      <td>1</td>\n",
       "      <td>0</td>\n",
       "      <td>2.0</td>\n",
       "      <td>3</td>\n",
       "    </tr>\n",
       "    <tr>\n",
       "      <th>4</th>\n",
       "      <td>0</td>\n",
       "      <td>3</td>\n",
       "      <td>1</td>\n",
       "      <td>2.0</td>\n",
       "      <td>1</td>\n",
       "    </tr>\n",
       "    <tr>\n",
       "      <th>...</th>\n",
       "      <td>...</td>\n",
       "      <td>...</td>\n",
       "      <td>...</td>\n",
       "      <td>...</td>\n",
       "      <td>...</td>\n",
       "    </tr>\n",
       "    <tr>\n",
       "      <th>886</th>\n",
       "      <td>0</td>\n",
       "      <td>2</td>\n",
       "      <td>1</td>\n",
       "      <td>1.0</td>\n",
       "      <td>1</td>\n",
       "    </tr>\n",
       "    <tr>\n",
       "      <th>887</th>\n",
       "      <td>1</td>\n",
       "      <td>1</td>\n",
       "      <td>0</td>\n",
       "      <td>1.0</td>\n",
       "      <td>2</td>\n",
       "    </tr>\n",
       "    <tr>\n",
       "      <th>888</th>\n",
       "      <td>0</td>\n",
       "      <td>3</td>\n",
       "      <td>0</td>\n",
       "      <td>1.0</td>\n",
       "      <td>2</td>\n",
       "    </tr>\n",
       "    <tr>\n",
       "      <th>889</th>\n",
       "      <td>1</td>\n",
       "      <td>1</td>\n",
       "      <td>1</td>\n",
       "      <td>1.0</td>\n",
       "      <td>2</td>\n",
       "    </tr>\n",
       "    <tr>\n",
       "      <th>890</th>\n",
       "      <td>0</td>\n",
       "      <td>3</td>\n",
       "      <td>1</td>\n",
       "      <td>1.0</td>\n",
       "      <td>0</td>\n",
       "    </tr>\n",
       "  </tbody>\n",
       "</table>\n",
       "<p>891 rows × 5 columns</p>\n",
       "</div>"
      ],
      "text/plain": [
       "     Survived  Pclass  Sex  Age  Fare\n",
       "0           0       3    1  1.0     0\n",
       "1           1       1    0  2.0     3\n",
       "2           1       3    0  1.0     1\n",
       "3           1       1    0  2.0     3\n",
       "4           0       3    1  2.0     1\n",
       "..        ...     ...  ...  ...   ...\n",
       "886         0       2    1  1.0     1\n",
       "887         1       1    0  1.0     2\n",
       "888         0       3    0  1.0     2\n",
       "889         1       1    1  1.0     2\n",
       "890         0       3    1  1.0     0\n",
       "\n",
       "[891 rows x 5 columns]"
      ]
     },
     "execution_count": 10,
     "metadata": {},
     "output_type": "execute_result"
    }
   ],
   "source": [
    "train_data"
   ]
  },
  {
   "cell_type": "code",
   "execution_count": 11,
   "id": "c67b5239",
   "metadata": {
    "execution": {
     "iopub.execute_input": "2024-10-30T22:03:06.539444Z",
     "iopub.status.busy": "2024-10-30T22:03:06.538279Z",
     "iopub.status.idle": "2024-10-30T22:03:06.895770Z",
     "shell.execute_reply": "2024-10-30T22:03:06.894379Z"
    },
    "papermill": {
     "duration": 0.367086,
     "end_time": "2024-10-30T22:03:06.898372",
     "exception": false,
     "start_time": "2024-10-30T22:03:06.531286",
     "status": "completed"
    },
    "tags": []
   },
   "outputs": [
    {
     "data": {
      "text/plain": [
       "<Axes: >"
      ]
     },
     "execution_count": 11,
     "metadata": {},
     "output_type": "execute_result"
    },
    {
     "data": {
      "image/png": "[encoded data removed]",
      "text/plain": [
       "<Figure size 640x480 with 2 Axes>"
      ]
     },
     "metadata": {},
     "output_type": "display_data"
    }
   ],
   "source": [
    "sns.heatmap(train_data.astype(float).corr())"
   ]
  },
  {
   "cell_type": "code",
   "execution_count": 12,
   "id": "e844666e",
   "metadata": {
    "execution": {
     "iopub.execute_input": "2024-10-30T22:03:06.913347Z",
     "iopub.status.busy": "2024-10-30T22:03:06.912316Z",
     "iopub.status.idle": "2024-10-30T22:03:06.919589Z",
     "shell.execute_reply": "2024-10-30T22:03:06.918330Z"
    },
    "papermill": {
     "duration": 0.017193,
     "end_time": "2024-10-30T22:03:06.922034",
     "exception": false,
     "start_time": "2024-10-30T22:03:06.904841",
     "status": "completed"
    },
    "tags": []
   },
   "outputs": [],
   "source": [
    "y_train = train_data['Survived'].to_numpy()\n",
    "train_data = train_data.drop(['Survived'], axis=1)"
   ]
  },
  {
   "cell_type": "code",
   "execution_count": 13,
   "id": "16c9fe25",
   "metadata": {
    "execution": {
     "iopub.execute_input": "2024-10-30T22:03:06.936977Z",
     "iopub.status.busy": "2024-10-30T22:03:06.936539Z",
     "iopub.status.idle": "2024-10-30T22:03:07.349193Z",
     "shell.execute_reply": "2024-10-30T22:03:07.347992Z"
    },
    "papermill": {
     "duration": 0.423493,
     "end_time": "2024-10-30T22:03:07.351899",
     "exception": false,
     "start_time": "2024-10-30T22:03:06.928406",
     "status": "completed"
    },
    "tags": []
   },
   "outputs": [],
   "source": [
    "gbm1 = xgb.XGBClassifier(\n",
    "    n_estimators= 2000,\n",
    "    max_depth= 4,\n",
    "    min_child_weight= 2,\n",
    "    gamma=0.9,\n",
    "    subsample=0.8,\n",
    "    colsample_bytree=0.8,\n",
    "    objective= 'binary:logistic',\n",
    "    nthread= -1,\n",
    "    scale_pos_weight=1).fit(train_data, y_train)\n",
    "\n",
    "predictions1 = gbm1.predict(test_data)"
   ]
  },
  {
   "cell_type": "code",
   "execution_count": 14,
   "id": "45e7391d",
   "metadata": {
    "execution": {
     "iopub.execute_input": "2024-10-30T22:03:07.366602Z",
     "iopub.status.busy": "2024-10-30T22:03:07.365861Z",
     "iopub.status.idle": "2024-10-30T22:03:07.733731Z",
     "shell.execute_reply": "2024-10-30T22:03:07.732626Z"
    },
    "papermill": {
     "duration": 0.37837,
     "end_time": "2024-10-30T22:03:07.736743",
     "exception": false,
     "start_time": "2024-10-30T22:03:07.358373",
     "status": "completed"
    },
    "tags": []
   },
   "outputs": [],
   "source": [
    "gbm2 = xgb.XGBClassifier(\n",
    "    n_estimators= 2000,\n",
    "    max_depth= 10,\n",
    "    min_child_weight= 2,\n",
    "    gamma=0.9,\n",
    "    subsample=0.8,\n",
    "    colsample_bytree=0.8,\n",
    "    objective= 'binary:logistic',\n",
    "    nthread= -1,\n",
    "    scale_pos_weight=1).fit(train_data, y_train)\n",
    "\n",
    "predictions2 = gbm2.predict(test_data)"
   ]
  },
  {
   "cell_type": "code",
   "execution_count": 15,
   "id": "54326568",
   "metadata": {
    "execution": {
     "iopub.execute_input": "2024-10-30T22:03:07.751353Z",
     "iopub.status.busy": "2024-10-30T22:03:07.750930Z",
     "iopub.status.idle": "2024-10-30T22:03:08.108648Z",
     "shell.execute_reply": "2024-10-30T22:03:08.107467Z"
    },
    "papermill": {
     "duration": 0.368253,
     "end_time": "2024-10-30T22:03:08.111573",
     "exception": false,
     "start_time": "2024-10-30T22:03:07.743320",
     "status": "completed"
    },
    "tags": []
   },
   "outputs": [],
   "source": [
    "gbm3 = xgb.XGBClassifier(\n",
    "    n_estimators= 2000,\n",
    "    max_depth= 5,\n",
    "    min_child_weight= 2,\n",
    "    gamma=1,\n",
    "    subsample=0.8,\n",
    "    colsample_bytree=0.8,\n",
    "    objective= 'binary:logistic',\n",
    "    nthread= -1,\n",
    "    scale_pos_weight=1).fit(train_data, y_train)\n",
    "\n",
    "predictions3 = gbm3.predict(test_data)"
   ]
  },
  {
   "cell_type": "code",
   "execution_count": 16,
   "id": "c6f77bd4",
   "metadata": {
    "execution": {
     "iopub.execute_input": "2024-10-30T22:03:08.126887Z",
     "iopub.status.busy": "2024-10-30T22:03:08.126441Z",
     "iopub.status.idle": "2024-10-30T22:03:08.140712Z",
     "shell.execute_reply": "2024-10-30T22:03:08.139517Z"
    },
    "papermill": {
     "duration": 0.024987,
     "end_time": "2024-10-30T22:03:08.143189",
     "exception": false,
     "start_time": "2024-10-30T22:03:08.118202",
     "status": "completed"
    },
    "tags": []
   },
   "outputs": [
    {
     "data": {
      "text/html": [
       "<div>\n",
       "<style scoped>\n",
       "    .dataframe tbody tr th:only-of-type {\n",
       "        vertical-align: middle;\n",
       "    }\n",
       "\n",
       "    .dataframe tbody tr th {\n",
       "        vertical-align: top;\n",
       "    }\n",
       "\n",
       "    .dataframe thead th {\n",
       "        text-align: right;\n",
       "    }\n",
       "</style>\n",
       "<table border=\"1\" class=\"dataframe\">\n",
       "  <thead>\n",
       "    <tr style=\"text-align: right;\">\n",
       "      <th></th>\n",
       "      <th>PassengerId</th>\n",
       "      <th>Survived</th>\n",
       "    </tr>\n",
       "  </thead>\n",
       "  <tbody>\n",
       "    <tr>\n",
       "      <th>0</th>\n",
       "      <td>892</td>\n",
       "      <td>0</td>\n",
       "    </tr>\n",
       "    <tr>\n",
       "      <th>1</th>\n",
       "      <td>893</td>\n",
       "      <td>0</td>\n",
       "    </tr>\n",
       "    <tr>\n",
       "      <th>2</th>\n",
       "      <td>894</td>\n",
       "      <td>0</td>\n",
       "    </tr>\n",
       "    <tr>\n",
       "      <th>3</th>\n",
       "      <td>895</td>\n",
       "      <td>0</td>\n",
       "    </tr>\n",
       "    <tr>\n",
       "      <th>4</th>\n",
       "      <td>896</td>\n",
       "      <td>0</td>\n",
       "    </tr>\n",
       "    <tr>\n",
       "      <th>...</th>\n",
       "      <td>...</td>\n",
       "      <td>...</td>\n",
       "    </tr>\n",
       "    <tr>\n",
       "      <th>413</th>\n",
       "      <td>1305</td>\n",
       "      <td>1</td>\n",
       "    </tr>\n",
       "    <tr>\n",
       "      <th>414</th>\n",
       "      <td>1306</td>\n",
       "      <td>1</td>\n",
       "    </tr>\n",
       "    <tr>\n",
       "      <th>415</th>\n",
       "      <td>1307</td>\n",
       "      <td>0</td>\n",
       "    </tr>\n",
       "    <tr>\n",
       "      <th>416</th>\n",
       "      <td>1308</td>\n",
       "      <td>1</td>\n",
       "    </tr>\n",
       "    <tr>\n",
       "      <th>417</th>\n",
       "      <td>1309</td>\n",
       "      <td>0</td>\n",
       "    </tr>\n",
       "  </tbody>\n",
       "</table>\n",
       "<p>418 rows × 2 columns</p>\n",
       "</div>"
      ],
      "text/plain": [
       "     PassengerId  Survived\n",
       "0            892         0\n",
       "1            893         0\n",
       "2            894         0\n",
       "3            895         0\n",
       "4            896         0\n",
       "..           ...       ...\n",
       "413         1305         1\n",
       "414         1306         1\n",
       "415         1307         0\n",
       "416         1308         1\n",
       "417         1309         0\n",
       "\n",
       "[418 rows x 2 columns]"
      ]
     },
     "execution_count": 16,
     "metadata": {},
     "output_type": "execute_result"
    }
   ],
   "source": [
    "output = pd.DataFrame({\n",
    "    'PassengerId': PassengerId, \n",
    "#      'Survived': 0.3*predictions1 + 0.4*predictions2 + 0.3*predictions3\n",
    "    'Survived': predictions1\n",
    "    })\n",
    "output['Survived'] = output['Survived'].apply(lambda f: 1 if f>=0.5 else 0)\n",
    "output"
   ]
  },
  {
   "cell_type": "code",
   "execution_count": 17,
   "id": "7bf143ea",
   "metadata": {
    "execution": {
     "iopub.execute_input": "2024-10-30T22:03:08.157689Z",
     "iopub.status.busy": "2024-10-30T22:03:08.157291Z",
     "iopub.status.idle": "2024-10-30T22:03:08.167048Z",
     "shell.execute_reply": "2024-10-30T22:03:08.165699Z"
    },
    "papermill": {
     "duration": 0.019991,
     "end_time": "2024-10-30T22:03:08.169538",
     "exception": false,
     "start_time": "2024-10-30T22:03:08.149547",
     "status": "completed"
    },
    "tags": []
   },
   "outputs": [
    {
     "name": "stdout",
     "output_type": "stream",
     "text": [
      "Your submission was successfully saved!\n"
     ]
    }
   ],
   "source": [
    "output.to_csv('submission.csv', index=False)\n",
    "print(\"Your submission was successfully saved!\")"
   ]
  }
 ],
 "metadata": {
  "kaggle": {
   "accelerator": "none",
   "dataSources": [
    {
     "databundleVersionId": 26502,
     "sourceId": 3136,
     "sourceType": "competition"
    }
   ],
   "dockerImageVersionId": 30786,
   "isGpuEnabled": false,
   "isInternetEnabled": false,
   "language": "python",
   "sourceType": "notebook"
  },
  "kernelspec": {
   "display_name": "Python 3",
   "language": "python",
   "name": "python3"
  },
  "language_info": {
   "codemirror_mode": {
    "name": "ipython",
    "version": 3
   },
   "file_extension": ".py",
   "mimetype": "text/x-python",
   "name": "python",
   "nbconvert_exporter": "python",
   "pygments_lexer": "ipython3",
   "version": "3.10.14"
  },
  "papermill": {
   "default_parameters": {},
   "duration": 8.533543,
   "end_time": "2024-10-30T22:03:08.897706",
   "environment_variables": {},
   "exception": null,
   "input_path": "__notebook__.ipynb",
   "output_path": "__notebook__.ipynb",
   "parameters": {},
   "start_time": "2024-10-30T22:03:00.364163",
   "version": "2.6.0"
  }
 },
 "nbformat": 4,
 "nbformat_minor": 5
}
