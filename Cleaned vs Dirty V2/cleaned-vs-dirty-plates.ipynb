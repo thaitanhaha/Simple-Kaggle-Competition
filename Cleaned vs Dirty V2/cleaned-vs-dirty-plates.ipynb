{
 "cells": [
  {
   "cell_type": "code",
   "execution_count": 1,
   "id": "4f990c9d",
   "metadata": {
    "execution": {
     "iopub.execute_input": "2025-03-24T18:48:51.317896Z",
     "iopub.status.busy": "2025-03-24T18:48:51.317536Z",
     "iopub.status.idle": "2025-03-24T18:49:11.223448Z",
     "shell.execute_reply": "2025-03-24T18:49:11.222648Z"
    },
    "papermill": {
     "duration": 19.913259,
     "end_time": "2025-03-24T18:49:11.225692",
     "exception": false,
     "start_time": "2025-03-24T18:48:51.312433",
     "status": "completed"
    },
    "tags": []
   },
   "outputs": [],
   "source": [
    "import warnings\n",
    "warnings.filterwarnings('ignore')\n",
    "import pandas as pd\n",
    "import numpy as np\n",
    "import seaborn as sns\n",
    "from sklearn.model_selection import train_test_split\n",
    "from sklearn.utils import shuffle\n",
    "import matplotlib.pyplot as plt\n",
    "import matplotlib.image as mpimg\n",
    "import tensorflow as tf\n",
    "from tensorflow.keras import layers, optimizers\n",
    "from tensorflow.keras.models import Sequential, Model\n",
    "from tensorflow.keras.preprocessing.image import ImageDataGenerator\n",
    "from tensorflow.keras.callbacks import Callback, ModelCheckpoint\n",
    "from tensorflow.keras.applications import VGG19\n",
    "import cv2\n",
    "from torchvision import transforms\n",
    "from PIL import Image\n",
    "\n",
    "import zipfile\n",
    "import os"
   ]
  },
  {
   "cell_type": "code",
   "execution_count": 2,
   "id": "5956862f",
   "metadata": {
    "execution": {
     "iopub.execute_input": "2025-03-24T18:49:11.234230Z",
     "iopub.status.busy": "2025-03-24T18:49:11.233388Z",
     "iopub.status.idle": "2025-03-24T18:49:12.273449Z",
     "shell.execute_reply": "2025-03-24T18:49:12.272675Z"
    },
    "papermill": {
     "duration": 1.046163,
     "end_time": "2025-03-24T18:49:12.275543",
     "exception": false,
     "start_time": "2025-03-24T18:49:11.229380",
     "status": "completed"
    },
    "tags": []
   },
   "outputs": [],
   "source": [
    "zip_file = '/kaggle/input/platesv2/plates.zip'\n",
    "destination_directory = '/kaggle/working/'\n",
    "with zipfile.ZipFile(zip_file, 'r') as zip_obj:\n",
    "    zip_obj.extractall(destination_directory)"
   ]
  },
  {
   "cell_type": "code",
   "execution_count": 3,
   "id": "f9e11151",
   "metadata": {
    "execution": {
     "iopub.execute_input": "2025-03-24T18:49:12.282755Z",
     "iopub.status.busy": "2025-03-24T18:49:12.282454Z",
     "iopub.status.idle": "2025-03-24T18:49:12.287561Z",
     "shell.execute_reply": "2025-03-24T18:49:12.286888Z"
    },
    "papermill": {
     "duration": 0.010533,
     "end_time": "2025-03-24T18:49:12.289182",
     "exception": false,
     "start_time": "2025-03-24T18:49:12.278649",
     "status": "completed"
    },
    "tags": []
   },
   "outputs": [],
   "source": [
    "def draw_samples(image_files):\n",
    "    fig, axes = plt.subplots(4, 5, figsize=(15, 15))\n",
    "    axes = axes.flatten()\n",
    "    for i, image_file in enumerate(image_files[:4 * 5]):\n",
    "        img = mpimg.imread(image_file)\n",
    "        ax = axes[i]\n",
    "        ax.imshow(img)\n",
    "        ax.set_title(\"Cleaned\" if i < 10 else \"Dirty\")\n",
    "        ax.axis('off')\n",
    "    plt.tight_layout()\n",
    "    plt.show()"
   ]
  },
  {
   "cell_type": "markdown",
   "id": "5718af87",
   "metadata": {
    "papermill": {
     "duration": 0.002802,
     "end_time": "2025-03-24T18:49:12.294982",
     "exception": false,
     "start_time": "2025-03-24T18:49:12.292180",
     "status": "completed"
    },
    "tags": []
   },
   "source": [
    "## Image Processing"
   ]
  },
  {
   "cell_type": "code",
   "execution_count": 4,
   "id": "743b60e9",
   "metadata": {
    "execution": {
     "iopub.execute_input": "2025-03-24T18:49:12.302026Z",
     "iopub.status.busy": "2025-03-24T18:49:12.301724Z",
     "iopub.status.idle": "2025-03-24T18:49:12.308937Z",
     "shell.execute_reply": "2025-03-24T18:49:12.308322Z"
    },
    "papermill": {
     "duration": 0.012642,
     "end_time": "2025-03-24T18:49:12.310604",
     "exception": false,
     "start_time": "2025-03-24T18:49:12.297962",
     "status": "completed"
    },
    "tags": []
   },
   "outputs": [],
   "source": [
    "cleaned_path = '/kaggle/working/plates/train/cleaned/'\n",
    "dirty_path = '/kaggle/working/plates/train/dirty/'\n",
    "test_path = '/kaggle/working/plates/test/'\n",
    "\n",
    "image_files_cleaned = [os.path.join(cleaned_path, f) for f in os.listdir(cleaned_path) if f.endswith(('jpg', 'png', 'jpeg'))]\n",
    "image_files_dirty = [os.path.join(dirty_path, f) for f in os.listdir(dirty_path) if f.endswith(('jpg', 'png', 'jpeg'))]\n",
    "image_test_files = [os.path.join(test_path, f) for f in os.listdir(test_path) if f.endswith(('jpg', 'png', 'jpeg'))]"
   ]
  },
  {
   "cell_type": "code",
   "execution_count": 5,
   "id": "0a265786",
   "metadata": {
    "execution": {
     "iopub.execute_input": "2025-03-24T18:49:12.319238Z",
     "iopub.status.busy": "2025-03-24T18:49:12.318495Z",
     "iopub.status.idle": "2025-03-24T18:49:12.367989Z",
     "shell.execute_reply": "2025-03-24T18:49:12.367240Z"
    },
    "papermill": {
     "duration": 0.056347,
     "end_time": "2025-03-24T18:49:12.369972",
     "exception": false,
     "start_time": "2025-03-24T18:49:12.313625",
     "status": "completed"
    },
    "tags": []
   },
   "outputs": [],
   "source": [
    "processed_cleaned_path = '/kaggle/input/cleaned-vs-dirty-plates-images/plates/train_processed/cleaned'\n",
    "processed_dirty_path = '/kaggle/input/cleaned-vs-dirty-plates-images/plates/train_processed/dirty'\n",
    "processed_test_path = '/kaggle/input/cleaned-vs-dirty-plates-images/plates/test_processed'\n",
    "\n",
    "image_files_processed_cleaned = [os.path.join(processed_cleaned_path, f) for f in os.listdir(processed_cleaned_path) if f.endswith(('jpg', 'png', 'jpeg'))]\n",
    "image_files_processed_dirty = [os.path.join(processed_dirty_path, f) for f in os.listdir(processed_dirty_path) if f.endswith(('jpg', 'png', 'jpeg'))]\n",
    "image_files_processed_test = [os.path.join(processed_test_path, f) for f in os.listdir(processed_test_path) if f.endswith(('jpg', 'png', 'jpeg'))]"
   ]
  },
  {
   "cell_type": "code",
   "execution_count": 6,
   "id": "0567ba8d",
   "metadata": {
    "execution": {
     "iopub.execute_input": "2025-03-24T18:49:12.377265Z",
     "iopub.status.busy": "2025-03-24T18:49:12.376972Z",
     "iopub.status.idle": "2025-03-24T18:49:12.688490Z",
     "shell.execute_reply": "2025-03-24T18:49:12.687355Z"
    },
    "papermill": {
     "duration": 0.317459,
     "end_time": "2025-03-24T18:49:12.690622",
     "exception": false,
     "start_time": "2025-03-24T18:49:12.373163",
     "status": "completed"
    },
    "tags": []
   },
   "outputs": [
    {
     "name": "stdout",
     "output_type": "stream",
     "text": [
      "X_train shape: (40, 224, 224, 3)\n",
      "y_train shape: (40,)\n",
      "[0 1 1 1 1 1 0 1 0 0 1 1 0 0 1 1 1 0 1 0 0 1 1 0 0 0 1 1 0 0 1 0 0 0 0 1 0\n",
      " 1 1 0]\n"
     ]
    }
   ],
   "source": [
    "X_train = []\n",
    "y_train = []\n",
    "\n",
    "def load_images(image_files, label):\n",
    "    for filename in image_files:\n",
    "        img = cv2.imread(filename)\n",
    "        img = cv2.resize(img, (224, 224))\n",
    "        X_train.append(img)\n",
    "        y_train.append(label)\n",
    "        \n",
    "load_images(image_files_processed_cleaned, 0)\n",
    "load_images(image_files_processed_dirty, 1)\n",
    "\n",
    "X_train = np.array(X_train)\n",
    "y_train = np.array(y_train)\n",
    "\n",
    "X_train, y_train = shuffle(X_train, y_train)\n",
    "\n",
    "print(f\"X_train shape: {X_train.shape}\")\n",
    "print(f\"y_train shape: {y_train.shape}\")\n",
    "print(y_train)"
   ]
  },
  {
   "cell_type": "code",
   "execution_count": 7,
   "id": "70f1aa5d",
   "metadata": {
    "execution": {
     "iopub.execute_input": "2025-03-24T18:49:12.698894Z",
     "iopub.status.busy": "2025-03-24T18:49:12.698130Z",
     "iopub.status.idle": "2025-03-24T18:49:19.109591Z",
     "shell.execute_reply": "2025-03-24T18:49:19.108421Z"
    },
    "papermill": {
     "duration": 6.417487,
     "end_time": "2025-03-24T18:49:19.111599",
     "exception": false,
     "start_time": "2025-03-24T18:49:12.694112",
     "status": "completed"
    },
    "tags": []
   },
   "outputs": [
    {
     "name": "stdout",
     "output_type": "stream",
     "text": [
      "X_test shape: (744, 224, 224, 3)\n"
     ]
    }
   ],
   "source": [
    "X_test = []\n",
    "for filename in image_files_processed_test:\n",
    "    img = cv2.imread(filename)\n",
    "    img = cv2.resize(img, (224, 224))\n",
    "    X_test.append(img)\n",
    "X_test = np.array(X_test)\n",
    "\n",
    "print(f\"X_test shape: {X_test.shape}\")"
   ]
  },
  {
   "cell_type": "markdown",
   "id": "dd924a1b",
   "metadata": {
    "papermill": {
     "duration": 0.002999,
     "end_time": "2025-03-24T18:49:19.118087",
     "exception": false,
     "start_time": "2025-03-24T18:49:19.115088",
     "status": "completed"
    },
    "tags": []
   },
   "source": [
    "## Train"
   ]
  },
  {
   "cell_type": "code",
   "execution_count": 8,
   "id": "d3467691",
   "metadata": {
    "execution": {
     "iopub.execute_input": "2025-03-24T18:49:19.125670Z",
     "iopub.status.busy": "2025-03-24T18:49:19.125351Z",
     "iopub.status.idle": "2025-03-24T18:49:19.129327Z",
     "shell.execute_reply": "2025-03-24T18:49:19.128611Z"
    },
    "papermill": {
     "duration": 0.009828,
     "end_time": "2025-03-24T18:49:19.131016",
     "exception": false,
     "start_time": "2025-03-24T18:49:19.121188",
     "status": "completed"
    },
    "tags": []
   },
   "outputs": [],
   "source": [
    "IMG_SIZE = 224\n",
    "BATCH_SIZE = 5\n",
    "EPOCHS = 30"
   ]
  },
  {
   "cell_type": "code",
   "execution_count": 9,
   "id": "edb7d82c",
   "metadata": {
    "execution": {
     "iopub.execute_input": "2025-03-24T18:49:19.138346Z",
     "iopub.status.busy": "2025-03-24T18:49:19.138075Z",
     "iopub.status.idle": "2025-03-24T18:49:19.253726Z",
     "shell.execute_reply": "2025-03-24T18:49:19.253007Z"
    },
    "papermill": {
     "duration": 0.121485,
     "end_time": "2025-03-24T18:49:19.255734",
     "exception": false,
     "start_time": "2025-03-24T18:49:19.134249",
     "status": "completed"
    },
    "tags": []
   },
   "outputs": [],
   "source": [
    "datagen = ImageDataGenerator(\n",
    "        rotation_range=40,\n",
    "        width_shift_range=0.2,\n",
    "        height_shift_range=0.2,\n",
    "        shear_range=0.2,\n",
    "        zoom_range=0.2,\n",
    "        horizontal_flip=True\n",
    "    )\n",
    "train_gen = datagen.flow(X_train, y_train, batch_size=BATCH_SIZE)\n",
    "\n",
    "test_datagen = ImageDataGenerator()\n",
    "test_gen = test_datagen.flow(X_test, batch_size=BATCH_SIZE, shuffle=False)"
   ]
  },
  {
   "cell_type": "code",
   "execution_count": 10,
   "id": "f3dd2b31",
   "metadata": {
    "execution": {
     "iopub.execute_input": "2025-03-24T18:49:19.263189Z",
     "iopub.status.busy": "2025-03-24T18:49:19.262843Z",
     "iopub.status.idle": "2025-03-24T18:49:21.073840Z",
     "shell.execute_reply": "2025-03-24T18:49:21.072670Z"
    },
    "papermill": {
     "duration": 1.816717,
     "end_time": "2025-03-24T18:49:21.075786",
     "exception": false,
     "start_time": "2025-03-24T18:49:19.259069",
     "status": "completed"
    },
    "tags": []
   },
   "outputs": [
    {
     "name": "stdout",
     "output_type": "stream",
     "text": [
      "Downloading data from https://storage.googleapis.com/tensorflow/keras-applications/vgg19/vgg19_weights_tf_dim_ordering_tf_kernels_notop.h5\n",
      "\u001b[1m80134624/80134624\u001b[0m \u001b[32m━━━━━━━━━━━━━━━━━━━━\u001b[0m\u001b[37m\u001b[0m \u001b[1m0s\u001b[0m 0us/step\n"
     ]
    },
    {
     "data": {
      "text/html": [
       "<pre style=\"white-space:pre;overflow-x:auto;line-height:normal;font-family:Menlo,'DejaVu Sans Mono',consolas,'Courier New',monospace\"><span style=\"font-weight: bold\">Model: \"functional_1\"</span>\n",
       "</pre>\n"
      ],
      "text/plain": [
       "\u001b[1mModel: \"functional_1\"\u001b[0m\n"
      ]
     },
     "metadata": {},
     "output_type": "display_data"
    },
    {
     "data": {
      "text/html": [
       "<pre style=\"white-space:pre;overflow-x:auto;line-height:normal;font-family:Menlo,'DejaVu Sans Mono',consolas,'Courier New',monospace\">┏━━━━━━━━━━━━━━━━━━━━━━━━━━━━━━━━━┳━━━━━━━━━━━━━━━━━━━━━━━━┳━━━━━━━━━━━━━━━┓\n",
       "┃<span style=\"font-weight: bold\"> Layer (type)                    </span>┃<span style=\"font-weight: bold\"> Output Shape           </span>┃<span style=\"font-weight: bold\">       Param # </span>┃\n",
       "┡━━━━━━━━━━━━━━━━━━━━━━━━━━━━━━━━━╇━━━━━━━━━━━━━━━━━━━━━━━━╇━━━━━━━━━━━━━━━┩\n",
       "│ input_layer (<span style=\"color: #0087ff; text-decoration-color: #0087ff\">InputLayer</span>)        │ (<span style=\"color: #00d7ff; text-decoration-color: #00d7ff\">None</span>, <span style=\"color: #00af00; text-decoration-color: #00af00\">224</span>, <span style=\"color: #00af00; text-decoration-color: #00af00\">224</span>, <span style=\"color: #00af00; text-decoration-color: #00af00\">3</span>)    │             <span style=\"color: #00af00; text-decoration-color: #00af00\">0</span> │\n",
       "├─────────────────────────────────┼────────────────────────┼───────────────┤\n",
       "│ vgg19 (<span style=\"color: #0087ff; text-decoration-color: #0087ff\">Functional</span>)              │ (<span style=\"color: #00d7ff; text-decoration-color: #00d7ff\">None</span>, <span style=\"color: #00af00; text-decoration-color: #00af00\">7</span>, <span style=\"color: #00af00; text-decoration-color: #00af00\">7</span>, <span style=\"color: #00af00; text-decoration-color: #00af00\">512</span>)      │    <span style=\"color: #00af00; text-decoration-color: #00af00\">20,024,384</span> │\n",
       "├─────────────────────────────────┼────────────────────────┼───────────────┤\n",
       "│ global_average_pooling2d        │ (<span style=\"color: #00d7ff; text-decoration-color: #00d7ff\">None</span>, <span style=\"color: #00af00; text-decoration-color: #00af00\">512</span>)            │             <span style=\"color: #00af00; text-decoration-color: #00af00\">0</span> │\n",
       "│ (<span style=\"color: #0087ff; text-decoration-color: #0087ff\">GlobalAveragePooling2D</span>)        │                        │               │\n",
       "├─────────────────────────────────┼────────────────────────┼───────────────┤\n",
       "│ dense (<span style=\"color: #0087ff; text-decoration-color: #0087ff\">Dense</span>)                   │ (<span style=\"color: #00d7ff; text-decoration-color: #00d7ff\">None</span>, <span style=\"color: #00af00; text-decoration-color: #00af00\">1024</span>)           │       <span style=\"color: #00af00; text-decoration-color: #00af00\">525,312</span> │\n",
       "├─────────────────────────────────┼────────────────────────┼───────────────┤\n",
       "│ dense_1 (<span style=\"color: #0087ff; text-decoration-color: #0087ff\">Dense</span>)                 │ (<span style=\"color: #00d7ff; text-decoration-color: #00d7ff\">None</span>, <span style=\"color: #00af00; text-decoration-color: #00af00\">1</span>)              │         <span style=\"color: #00af00; text-decoration-color: #00af00\">1,025</span> │\n",
       "└─────────────────────────────────┴────────────────────────┴───────────────┘\n",
       "</pre>\n"
      ],
      "text/plain": [
       "┏━━━━━━━━━━━━━━━━━━━━━━━━━━━━━━━━━┳━━━━━━━━━━━━━━━━━━━━━━━━┳━━━━━━━━━━━━━━━┓\n",
       "┃\u001b[1m \u001b[0m\u001b[1mLayer (type)                   \u001b[0m\u001b[1m \u001b[0m┃\u001b[1m \u001b[0m\u001b[1mOutput Shape          \u001b[0m\u001b[1m \u001b[0m┃\u001b[1m \u001b[0m\u001b[1m      Param #\u001b[0m\u001b[1m \u001b[0m┃\n",
       "┡━━━━━━━━━━━━━━━━━━━━━━━━━━━━━━━━━╇━━━━━━━━━━━━━━━━━━━━━━━━╇━━━━━━━━━━━━━━━┩\n",
       "│ input_layer (\u001b[38;5;33mInputLayer\u001b[0m)        │ (\u001b[38;5;45mNone\u001b[0m, \u001b[38;5;34m224\u001b[0m, \u001b[38;5;34m224\u001b[0m, \u001b[38;5;34m3\u001b[0m)    │             \u001b[38;5;34m0\u001b[0m │\n",
       "├─────────────────────────────────┼────────────────────────┼───────────────┤\n",
       "│ vgg19 (\u001b[38;5;33mFunctional\u001b[0m)              │ (\u001b[38;5;45mNone\u001b[0m, \u001b[38;5;34m7\u001b[0m, \u001b[38;5;34m7\u001b[0m, \u001b[38;5;34m512\u001b[0m)      │    \u001b[38;5;34m20,024,384\u001b[0m │\n",
       "├─────────────────────────────────┼────────────────────────┼───────────────┤\n",
       "│ global_average_pooling2d        │ (\u001b[38;5;45mNone\u001b[0m, \u001b[38;5;34m512\u001b[0m)            │             \u001b[38;5;34m0\u001b[0m │\n",
       "│ (\u001b[38;5;33mGlobalAveragePooling2D\u001b[0m)        │                        │               │\n",
       "├─────────────────────────────────┼────────────────────────┼───────────────┤\n",
       "│ dense (\u001b[38;5;33mDense\u001b[0m)                   │ (\u001b[38;5;45mNone\u001b[0m, \u001b[38;5;34m1024\u001b[0m)           │       \u001b[38;5;34m525,312\u001b[0m │\n",
       "├─────────────────────────────────┼────────────────────────┼───────────────┤\n",
       "│ dense_1 (\u001b[38;5;33mDense\u001b[0m)                 │ (\u001b[38;5;45mNone\u001b[0m, \u001b[38;5;34m1\u001b[0m)              │         \u001b[38;5;34m1,025\u001b[0m │\n",
       "└─────────────────────────────────┴────────────────────────┴───────────────┘\n"
      ]
     },
     "metadata": {},
     "output_type": "display_data"
    },
    {
     "data": {
      "text/html": [
       "<pre style=\"white-space:pre;overflow-x:auto;line-height:normal;font-family:Menlo,'DejaVu Sans Mono',consolas,'Courier New',monospace\"><span style=\"font-weight: bold\"> Total params: </span><span style=\"color: #00af00; text-decoration-color: #00af00\">20,550,721</span> (78.39 MB)\n",
       "</pre>\n"
      ],
      "text/plain": [
       "\u001b[1m Total params: \u001b[0m\u001b[38;5;34m20,550,721\u001b[0m (78.39 MB)\n"
      ]
     },
     "metadata": {},
     "output_type": "display_data"
    },
    {
     "data": {
      "text/html": [
       "<pre style=\"white-space:pre;overflow-x:auto;line-height:normal;font-family:Menlo,'DejaVu Sans Mono',consolas,'Courier New',monospace\"><span style=\"font-weight: bold\"> Trainable params: </span><span style=\"color: #00af00; text-decoration-color: #00af00\">526,337</span> (2.01 MB)\n",
       "</pre>\n"
      ],
      "text/plain": [
       "\u001b[1m Trainable params: \u001b[0m\u001b[38;5;34m526,337\u001b[0m (2.01 MB)\n"
      ]
     },
     "metadata": {},
     "output_type": "display_data"
    },
    {
     "data": {
      "text/html": [
       "<pre style=\"white-space:pre;overflow-x:auto;line-height:normal;font-family:Menlo,'DejaVu Sans Mono',consolas,'Courier New',monospace\"><span style=\"font-weight: bold\"> Non-trainable params: </span><span style=\"color: #00af00; text-decoration-color: #00af00\">20,024,384</span> (76.39 MB)\n",
       "</pre>\n"
      ],
      "text/plain": [
       "\u001b[1m Non-trainable params: \u001b[0m\u001b[38;5;34m20,024,384\u001b[0m (76.39 MB)\n"
      ]
     },
     "metadata": {},
     "output_type": "display_data"
    }
   ],
   "source": [
    "input_tensor = tf.keras.Input(shape=(IMG_SIZE, IMG_SIZE, 3))\n",
    "\n",
    "pretrained = VGG19(weights='imagenet', include_top=False)\n",
    "pretrained.trainable = False\n",
    "\n",
    "x = pretrained(input_tensor, training=False)\n",
    "\n",
    "x = layers.GlobalAveragePooling2D()(x)\n",
    "x = layers.Dense(1024, activation='relu')(x)\n",
    "output = layers.Dense(1, activation='sigmoid')(x)\n",
    "\n",
    "model = Model(inputs=input_tensor, outputs=output)\n",
    "\n",
    "optimizer = optimizers.Adam(learning_rate=0.001)\n",
    "model.compile(loss='binary_crossentropy', optimizer=optimizer, metrics=['accuracy'])\n",
    "\n",
    "model.summary()"
   ]
  },
  {
   "cell_type": "code",
   "execution_count": 11,
   "id": "0b16be9a",
   "metadata": {
    "execution": {
     "iopub.execute_input": "2025-03-24T18:49:21.086009Z",
     "iopub.status.busy": "2025-03-24T18:49:21.085641Z",
     "iopub.status.idle": "2025-03-24T18:49:49.766071Z",
     "shell.execute_reply": "2025-03-24T18:49:49.765262Z"
    },
    "papermill": {
     "duration": 28.687603,
     "end_time": "2025-03-24T18:49:49.767823",
     "exception": false,
     "start_time": "2025-03-24T18:49:21.080220",
     "status": "completed"
    },
    "tags": []
   },
   "outputs": [
    {
     "name": "stdout",
     "output_type": "stream",
     "text": [
      "Epoch 1/30\n"
     ]
    },
    {
     "name": "stderr",
     "output_type": "stream",
     "text": [
      "WARNING: All log messages before absl::InitializeLog() is called are written to STDERR\n",
      "I0000 00:00:1742842163.044076      68 service.cc:145] XLA service 0x7b01ec006260 initialized for platform CUDA (this does not guarantee that XLA will be used). Devices:\n",
      "I0000 00:00:1742842163.044141      68 service.cc:153]   StreamExecutor device (0): Tesla T4, Compute Capability 7.5\n",
      "I0000 00:00:1742842163.044145      68 service.cc:153]   StreamExecutor device (1): Tesla T4, Compute Capability 7.5\n"
     ]
    },
    {
     "name": "stdout",
     "output_type": "stream",
     "text": [
      "\u001b[1m5/8\u001b[0m \u001b[32m━━━━━━━━━━━━\u001b[0m\u001b[37m━━━━━━━━\u001b[0m \u001b[1m0s\u001b[0m 35ms/step - accuracy: 0.5080 - loss: 2.8835"
     ]
    },
    {
     "name": "stderr",
     "output_type": "stream",
     "text": [
      "I0000 00:00:1742842167.862807      68 device_compiler.h:188] Compiled cluster using XLA!  This line is logged at most once for the lifetime of the process.\n"
     ]
    },
    {
     "name": "stdout",
     "output_type": "stream",
     "text": [
      "\u001b[1m8/8\u001b[0m \u001b[32m━━━━━━━━━━━━━━━━━━━━\u001b[0m\u001b[37m\u001b[0m \u001b[1m7s\u001b[0m 37ms/step - accuracy: 0.5185 - loss: 3.4434\n",
      "Epoch 2/30\n",
      "\u001b[1m8/8\u001b[0m \u001b[32m━━━━━━━━━━━━━━━━━━━━\u001b[0m\u001b[37m\u001b[0m \u001b[1m1s\u001b[0m 37ms/step - accuracy: 0.6493 - loss: 2.8910\n",
      "Epoch 3/30\n",
      "\u001b[1m8/8\u001b[0m \u001b[32m━━━━━━━━━━━━━━━━━━━━\u001b[0m\u001b[37m\u001b[0m \u001b[1m1s\u001b[0m 36ms/step - accuracy: 0.5971 - loss: 2.3891\n",
      "Epoch 4/30\n",
      "\u001b[1m8/8\u001b[0m \u001b[32m━━━━━━━━━━━━━━━━━━━━\u001b[0m\u001b[37m\u001b[0m \u001b[1m1s\u001b[0m 36ms/step - accuracy: 0.9129 - loss: 0.5100\n",
      "Epoch 5/30\n",
      "\u001b[1m8/8\u001b[0m \u001b[32m━━━━━━━━━━━━━━━━━━━━\u001b[0m\u001b[37m\u001b[0m \u001b[1m1s\u001b[0m 36ms/step - accuracy: 1.0000 - loss: 0.0270\n",
      "Epoch 6/30\n",
      "\u001b[1m8/8\u001b[0m \u001b[32m━━━━━━━━━━━━━━━━━━━━\u001b[0m\u001b[37m\u001b[0m \u001b[1m1s\u001b[0m 37ms/step - accuracy: 0.8734 - loss: 0.3408\n",
      "Epoch 7/30\n",
      "\u001b[1m8/8\u001b[0m \u001b[32m━━━━━━━━━━━━━━━━━━━━\u001b[0m\u001b[37m\u001b[0m \u001b[1m1s\u001b[0m 36ms/step - accuracy: 1.0000 - loss: 0.0136\n",
      "Epoch 8/30\n",
      "\u001b[1m8/8\u001b[0m \u001b[32m━━━━━━━━━━━━━━━━━━━━\u001b[0m\u001b[37m\u001b[0m \u001b[1m1s\u001b[0m 36ms/step - accuracy: 1.0000 - loss: 0.0634\n",
      "Epoch 9/30\n",
      "\u001b[1m8/8\u001b[0m \u001b[32m━━━━━━━━━━━━━━━━━━━━\u001b[0m\u001b[37m\u001b[0m \u001b[1m1s\u001b[0m 36ms/step - accuracy: 0.9776 - loss: 0.0503\n",
      "Epoch 10/30\n",
      "\u001b[1m8/8\u001b[0m \u001b[32m━━━━━━━━━━━━━━━━━━━━\u001b[0m\u001b[37m\u001b[0m \u001b[1m1s\u001b[0m 37ms/step - accuracy: 1.0000 - loss: 0.0025\n",
      "Epoch 11/30\n",
      "\u001b[1m8/8\u001b[0m \u001b[32m━━━━━━━━━━━━━━━━━━━━\u001b[0m\u001b[37m\u001b[0m \u001b[1m1s\u001b[0m 36ms/step - accuracy: 1.0000 - loss: 0.0143\n",
      "Epoch 12/30\n",
      "\u001b[1m8/8\u001b[0m \u001b[32m━━━━━━━━━━━━━━━━━━━━\u001b[0m\u001b[37m\u001b[0m \u001b[1m1s\u001b[0m 37ms/step - accuracy: 1.0000 - loss: 0.0364\n",
      "Epoch 13/30\n",
      "\u001b[1m8/8\u001b[0m \u001b[32m━━━━━━━━━━━━━━━━━━━━\u001b[0m\u001b[37m\u001b[0m \u001b[1m1s\u001b[0m 37ms/step - accuracy: 1.0000 - loss: 0.0209\n",
      "Epoch 14/30\n",
      "\u001b[1m8/8\u001b[0m \u001b[32m━━━━━━━━━━━━━━━━━━━━\u001b[0m\u001b[37m\u001b[0m \u001b[1m1s\u001b[0m 37ms/step - accuracy: 1.0000 - loss: 0.0087\n",
      "Epoch 15/30\n",
      "\u001b[1m8/8\u001b[0m \u001b[32m━━━━━━━━━━━━━━━━━━━━\u001b[0m\u001b[37m\u001b[0m \u001b[1m1s\u001b[0m 36ms/step - accuracy: 1.0000 - loss: 0.0040\n",
      "Epoch 16/30\n",
      "\u001b[1m8/8\u001b[0m \u001b[32m━━━━━━━━━━━━━━━━━━━━\u001b[0m\u001b[37m\u001b[0m \u001b[1m1s\u001b[0m 37ms/step - accuracy: 1.0000 - loss: 0.0224\n",
      "Epoch 17/30\n",
      "\u001b[1m8/8\u001b[0m \u001b[32m━━━━━━━━━━━━━━━━━━━━\u001b[0m\u001b[37m\u001b[0m \u001b[1m1s\u001b[0m 37ms/step - accuracy: 1.0000 - loss: 0.0035\n",
      "Epoch 18/30\n",
      "\u001b[1m8/8\u001b[0m \u001b[32m━━━━━━━━━━━━━━━━━━━━\u001b[0m\u001b[37m\u001b[0m \u001b[1m1s\u001b[0m 36ms/step - accuracy: 1.0000 - loss: 0.0081\n",
      "Epoch 19/30\n",
      "\u001b[1m8/8\u001b[0m \u001b[32m━━━━━━━━━━━━━━━━━━━━\u001b[0m\u001b[37m\u001b[0m \u001b[1m1s\u001b[0m 36ms/step - accuracy: 1.0000 - loss: 0.0011    \n",
      "Epoch 20/30\n",
      "\u001b[1m8/8\u001b[0m \u001b[32m━━━━━━━━━━━━━━━━━━━━\u001b[0m\u001b[37m\u001b[0m \u001b[1m1s\u001b[0m 37ms/step - accuracy: 1.0000 - loss: 4.9305e-04\n",
      "Epoch 21/30\n",
      "\u001b[1m8/8\u001b[0m \u001b[32m━━━━━━━━━━━━━━━━━━━━\u001b[0m\u001b[37m\u001b[0m \u001b[1m1s\u001b[0m 36ms/step - accuracy: 1.0000 - loss: 0.0103\n",
      "Epoch 22/30\n",
      "\u001b[1m8/8\u001b[0m \u001b[32m━━━━━━━━━━━━━━━━━━━━\u001b[0m\u001b[37m\u001b[0m \u001b[1m1s\u001b[0m 36ms/step - accuracy: 1.0000 - loss: 0.0013\n",
      "Epoch 23/30\n",
      "\u001b[1m8/8\u001b[0m \u001b[32m━━━━━━━━━━━━━━━━━━━━\u001b[0m\u001b[37m\u001b[0m \u001b[1m1s\u001b[0m 37ms/step - accuracy: 1.0000 - loss: 0.0029\n",
      "Epoch 24/30\n",
      "\u001b[1m8/8\u001b[0m \u001b[32m━━━━━━━━━━━━━━━━━━━━\u001b[0m\u001b[37m\u001b[0m \u001b[1m1s\u001b[0m 37ms/step - accuracy: 1.0000 - loss: 0.0017\n",
      "Epoch 25/30\n",
      "\u001b[1m8/8\u001b[0m \u001b[32m━━━━━━━━━━━━━━━━━━━━\u001b[0m\u001b[37m\u001b[0m \u001b[1m1s\u001b[0m 37ms/step - accuracy: 1.0000 - loss: 0.0105\n",
      "Epoch 26/30\n",
      "\u001b[1m8/8\u001b[0m \u001b[32m━━━━━━━━━━━━━━━━━━━━\u001b[0m\u001b[37m\u001b[0m \u001b[1m1s\u001b[0m 36ms/step - accuracy: 1.0000 - loss: 0.0134\n",
      "Epoch 27/30\n",
      "\u001b[1m8/8\u001b[0m \u001b[32m━━━━━━━━━━━━━━━━━━━━\u001b[0m\u001b[37m\u001b[0m \u001b[1m1s\u001b[0m 37ms/step - accuracy: 1.0000 - loss: 0.0076\n",
      "Epoch 28/30\n",
      "\u001b[1m8/8\u001b[0m \u001b[32m━━━━━━━━━━━━━━━━━━━━\u001b[0m\u001b[37m\u001b[0m \u001b[1m1s\u001b[0m 37ms/step - accuracy: 1.0000 - loss: 0.0033\n",
      "Epoch 29/30\n",
      "\u001b[1m8/8\u001b[0m \u001b[32m━━━━━━━━━━━━━━━━━━━━\u001b[0m\u001b[37m\u001b[0m \u001b[1m1s\u001b[0m 36ms/step - accuracy: 1.0000 - loss: 0.0012    \n",
      "Epoch 30/30\n",
      "\u001b[1m8/8\u001b[0m \u001b[32m━━━━━━━━━━━━━━━━━━━━\u001b[0m\u001b[37m\u001b[0m \u001b[1m1s\u001b[0m 37ms/step - accuracy: 1.0000 - loss: 8.4649e-04\n"
     ]
    }
   ],
   "source": [
    "history = model.fit(train_gen, epochs=EPOCHS)"
   ]
  },
  {
   "cell_type": "code",
   "execution_count": 12,
   "id": "2d1f6ca2",
   "metadata": {
    "execution": {
     "iopub.execute_input": "2025-03-24T18:49:49.796573Z",
     "iopub.status.busy": "2025-03-24T18:49:49.795455Z",
     "iopub.status.idle": "2025-03-24T18:49:58.674633Z",
     "shell.execute_reply": "2025-03-24T18:49:58.673564Z"
    },
    "papermill": {
     "duration": 8.895439,
     "end_time": "2025-03-24T18:49:58.677063",
     "exception": false,
     "start_time": "2025-03-24T18:49:49.781624",
     "status": "completed"
    },
    "tags": []
   },
   "outputs": [
    {
     "name": "stdout",
     "output_type": "stream",
     "text": [
      "\u001b[1m149/149\u001b[0m \u001b[32m━━━━━━━━━━━━━━━━━━━━\u001b[0m\u001b[37m\u001b[0m \u001b[1m9s\u001b[0m 55ms/step\n"
     ]
    }
   ],
   "source": [
    "predictions = model.predict(test_gen)"
   ]
  },
  {
   "cell_type": "code",
   "execution_count": 13,
   "id": "838ddaea",
   "metadata": {
    "execution": {
     "iopub.execute_input": "2025-03-24T18:49:58.714430Z",
     "iopub.status.busy": "2025-03-24T18:49:58.713599Z",
     "iopub.status.idle": "2025-03-24T18:49:58.735920Z",
     "shell.execute_reply": "2025-03-24T18:49:58.734821Z"
    },
    "papermill": {
     "duration": 0.042539,
     "end_time": "2025-03-24T18:49:58.737818",
     "exception": false,
     "start_time": "2025-03-24T18:49:58.695279",
     "status": "completed"
    },
    "tags": []
   },
   "outputs": [
    {
     "name": "stdout",
     "output_type": "stream",
     "text": [
      "label\n",
      "dirty      618\n",
      "cleaned    126\n",
      "Name: count, dtype: int64\n"
     ]
    }
   ],
   "source": [
    "submission = pd.DataFrame({'id': [n for n in range(len(predictions))], 'label': ['dirty' if x > 0.5 else 'cleaned' for x in predictions]})\n",
    "print(submission['label'].value_counts())\n",
    "submission.to_csv('/kaggle/working/submission.csv', index=False)"
   ]
  }
 ],
 "metadata": {
  "kaggle": {
   "accelerator": "nvidiaTeslaT4",
   "dataSources": [
    {
     "databundleVersionId": 565187,
     "sourceId": 15282,
     "sourceType": "competition"
    },
    {
     "datasetId": 6957563,
     "sourceId": 11151727,
     "sourceType": "datasetVersion"
    }
   ],
   "dockerImageVersionId": 30786,
   "isGpuEnabled": true,
   "isInternetEnabled": true,
   "language": "python",
   "sourceType": "notebook"
  },
  "kernelspec": {
   "display_name": "Python 3",
   "language": "python",
   "name": "python3"
  },
  "language_info": {
   "codemirror_mode": {
    "name": "ipython",
    "version": 3
   },
   "file_extension": ".py",
   "mimetype": "text/x-python",
   "name": "python",
   "nbconvert_exporter": "python",
   "pygments_lexer": "ipython3",
   "version": "3.10.14"
  },
  "papermill": {
   "default_parameters": {},
   "duration": 73.775344,
   "end_time": "2025-03-24T18:50:02.403977",
   "environment_variables": {},
   "exception": null,
   "input_path": "__notebook__.ipynb",
   "output_path": "__notebook__.ipynb",
   "parameters": {},
   "start_time": "2025-03-24T18:48:48.628633",
   "version": "2.6.0"
  }
 },
 "nbformat": 4,
 "nbformat_minor": 5
}
